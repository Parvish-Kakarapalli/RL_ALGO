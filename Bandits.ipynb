{
 "cells": [
  {
   "cell_type": "markdown",
   "id": "1b5119a5-1aa8-47cb-b9fe-1f72b1148b79",
   "metadata": {},
   "source": [
    "# Thompson Sampling "
   ]
  },
  {
   "cell_type": "code",
   "execution_count": 20,
   "id": "c1f9bb3b-6a26-4164-95ea-5e4787c5ee93",
   "metadata": {},
   "outputs": [],
   "source": [
    "import numpy as np \n",
    "import matplotlib.pyplot as plt "
   ]
  },
  {
   "cell_type": "code",
   "execution_count": 21,
   "id": "45dc6abf-bad5-4db7-8161-655fc9f1c674",
   "metadata": {},
   "outputs": [],
   "source": [
    "class GaussianArm:\n",
    "    def __init__(self, mean, std):\n",
    "        self.mean = mean\n",
    "        self.std = std \n",
    "\n",
    "    def sample(self):\n",
    "        return np.random.normal(self.mean, self.std)         "
   ]
  },
  {
   "cell_type": "code",
   "execution_count": 26,
   "id": "8078c9cd-d733-4ed4-a63e-41cde9ca2dbb",
   "metadata": {},
   "outputs": [],
   "source": [
    "arms = [GaussianArm(5, 1), GaussianArm(6, 1)]\n",
    "prior_mean = 0\n",
    "prior_std = 100\n",
    "def posterior(prior_std, n, reward_sum):\n",
    "    post_std = np.sqrt(1/((1/prior_std**2) + n))\n",
    "    post_mean = (post_std**2)*reward_sum\n",
    "    return np.random.normal(post_mean, post_std)"
   ]
  },
  {
   "cell_type": "code",
   "execution_count": 23,
   "id": "edadeef2-b2b5-4087-a7e9-9bc301fd9d65",
   "metadata": {},
   "outputs": [],
   "source": [
    "N_visits = 1000\n",
    "num_arms = len(arms)\n",
    "num_visits = [ 0 for i in range(num_arms)]\n",
    "reward_sums = [ 0 for i in range(num_arms)]\n",
    "scores = []\n",
    "for i in range(N_visits):\n",
    "    post_samples = []\n",
    "    for j in range(num_arms):\n",
    "        sample = posterior(prior_std, num_visits[j], reward_sums[j])\n",
    "        post_samples.append(sample)\n",
    "    arm_chosen = np.argmax(post_samples)\n",
    "    reward = arms[arm_chosen].sample()\n",
    "    reward_sums[arm_chosen] += reward \n",
    "    num_visits[arm_chosen] += 1\n",
    "    scores.append(reward)"
   ]
  },
  {
   "cell_type": "code",
   "execution_count": 24,
   "id": "57bd272f-7c14-44da-a88b-f60953d9f900",
   "metadata": {},
   "outputs": [
    {
     "data": {
      "text/plain": [
       "[11, 989]"
      ]
     },
     "execution_count": 24,
     "metadata": {},
     "output_type": "execute_result"
    }
   ],
   "source": [
    "num_visits"
   ]
  },
  {
   "cell_type": "markdown",
   "id": "a6851b02-8650-4598-883b-9507eeb3672b",
   "metadata": {},
   "source": [
    "# Hellinger-UCB"
   ]
  },
  {
   "cell_type": "code",
   "execution_count": 71,
   "id": "ac08cf80-5fd0-40ac-9b2c-46369ce12591",
   "metadata": {},
   "outputs": [],
   "source": [
    "import numpy as np \n",
    "import cvxpy as cp"
   ]
  },
  {
   "cell_type": "code",
   "execution_count": 76,
   "id": "f02a7ff9-66b9-4948-b0af-0168dd5932f4",
   "metadata": {},
   "outputs": [],
   "source": [
    "class BernoulliBandit:\n",
    "    def __init__(self, p_vector):\n",
    "        self.p_vector = np.array(p_vector)\n",
    "        self.num_arms = self.p_vector.shape[0]\n",
    "\n",
    "    def pull_arm(self, arm):\n",
    "        return 1 if np.random.random() <= self.p_vector[arm] else 0\n",
    "\n",
    "class HellingerUCB:\n",
    "    def __init__(self, bandit, c=0.27, T=10000):\n",
    "        self.bandit = bandit\n",
    "        self.c = c\n",
    "        self.T = T\n",
    "        self.K = self.bandit.num_arms\n",
    "        self.N = np.zeros(self.K)\n",
    "        self.S = np.zeros(self.K)\n",
    "        self.initialize()\n",
    "\n",
    "    def initialize(self):\n",
    "        for t in range(1, self.K + 1):\n",
    "            A_t = t % self.K\n",
    "            self.N[A_t] = 1\n",
    "            self.S[A_t] = self.bandit.pull_arm(A_t)\n",
    "        self.estimate = self.S / self.N\n",
    "        \n",
    "    def solve(self, arm, t):\n",
    "        p_hat = self.estimate[arm]\n",
    "        N = self.N[arm]\n",
    "        bound = 1 - np.exp(-self.c*np.log(t)/N)\n",
    "        \n",
    "        p = cp.Variable()\n",
    "        objective = cp.Maximize(p)\n",
    "        constraint = [\n",
    "            1 - (cp.sqrt(p*p_hat) + cp.sqrt((1-p)*(1-p_hat)))\n",
    "            <= bound,\n",
    "            p >=0, \n",
    "            p <= 1\n",
    "        ]\n",
    "        problem = cp.Problem(objective, constraint)\n",
    "        problem.solve() \n",
    "        return p.value\n",
    "        \n",
    "    def main(self):\n",
    "        scores = []\n",
    "        for t in range(self.K + 1, self.T + 1):\n",
    "            action_values = []\n",
    "            for k in range(self.K):\n",
    "                action_values.append(self.solve(k, t))\n",
    "            A_t = np.argmax(action_values)\n",
    "            self.N[A_t] += 1\n",
    "            reward = self.bandit.pull_arm(A_t)\n",
    "            self.S[A_t] += reward\n",
    "            self.estimate = self.S / self.N\n",
    "            scores.append(reward) \n",
    "        return np.cumsum(scores)/np.arange(1, len(scores) + 1) \n",
    "        \n",
    "            \n",
    "\n",
    "            "
   ]
  },
  {
   "cell_type": "code",
   "execution_count": 77,
   "id": "67173b6c-5d08-4eee-ad07-5d1e349c69bb",
   "metadata": {},
   "outputs": [],
   "source": [
    "MAB = BernoulliBandit([0.5, 0.3, 0.6, 0.45, 0.2])\n",
    "agent = HellingerUCB(MAB)"
   ]
  },
  {
   "cell_type": "code",
   "execution_count": 78,
   "id": "500298f3-e1ce-404b-a69f-4c4701f5559b",
   "metadata": {},
   "outputs": [
    {
     "data": {
      "text/plain": [
       "array([0.46354167, 0.27027027, 0.60257075, 0.39361702, 0.23333333])"
      ]
     },
     "execution_count": 78,
     "metadata": {},
     "output_type": "execute_result"
    }
   ],
   "source": [
    "scores = agent.main()\n",
    "agent.estimate"
   ]
  },
  {
   "cell_type": "code",
   "execution_count": 79,
   "id": "af4ed367-2b35-44eb-aaea-a426c3b979bd",
   "metadata": {},
   "outputs": [
    {
     "data": {
      "image/png": "[encoded data removed]",
      "text/plain": [
       "<Figure size 640x480 with 1 Axes>"
      ]
     },
     "metadata": {},
     "output_type": "display_data"
    }
   ],
   "source": [
    "import matplotlib.pyplot as plt\n",
    "\n",
    "plt.plot(scores)\n",
    "plt.show()"
   ]
  },
  {
   "cell_type": "code",
   "execution_count": null,
   "id": "7c1bae59-8051-4962-94e2-f2e17d11244c",
   "metadata": {},
   "outputs": [],
   "source": []
  }
 ],
 "metadata": {
  "kernelspec": {
   "display_name": "Python 3 (ipykernel)",
   "language": "python",
   "name": "python3"
  },
  "language_info": {
   "codemirror_mode": {
    "name": "ipython",
    "version": 3
   },
   "file_extension": ".py",
   "mimetype": "text/x-python",
   "name": "python",
   "nbconvert_exporter": "python",
   "pygments_lexer": "ipython3",
   "version": "3.12.7"
  }
 },
 "nbformat": 4,
 "nbformat_minor": 5
}
