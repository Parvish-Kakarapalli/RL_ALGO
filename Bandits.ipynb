{
 "cells": [
  {
   "cell_type": "markdown",
   "id": "1b5119a5-1aa8-47cb-b9fe-1f72b1148b79",
   "metadata": {},
   "source": [
    "# Thompson Sampling "
   ]
  },
  {
   "cell_type": "code",
   "execution_count": 20,
   "id": "c1f9bb3b-6a26-4164-95ea-5e4787c5ee93",
   "metadata": {},
   "outputs": [],
   "source": [
    "import numpy as np \n",
    "import matplotlib.pyplot as plt "
   ]
  },
  {
   "cell_type": "code",
   "execution_count": 21,
   "id": "45dc6abf-bad5-4db7-8161-655fc9f1c674",
   "metadata": {},
   "outputs": [],
   "source": [
    "class GaussianArm:\n",
    "    def __init__(self, mean, std):\n",
    "        self.mean = mean\n",
    "        self.std = std \n",
    "\n",
    "    def sample(self):\n",
    "        return np.random.normal(self.mean, self.std)         "
   ]
  },
  {
   "cell_type": "code",
   "execution_count": 26,
   "id": "8078c9cd-d733-4ed4-a63e-41cde9ca2dbb",
   "metadata": {},
   "outputs": [],
   "source": [
    "arms = [GaussianArm(5, 1), GaussianArm(6, 1)]\n",
    "prior_mean = 0\n",
    "prior_std = 100\n",
    "def posterior(prior_std, n, reward_sum):\n",
    "    post_std = np.sqrt(1/((1/prior_std**2) + n))\n",
    "    post_mean = (post_std**2)*reward_sum\n",
    "    return np.random.normal(post_mean, post_std)"
   ]
  },
  {
   "cell_type": "code",
   "execution_count": 23,
   "id": "edadeef2-b2b5-4087-a7e9-9bc301fd9d65",
   "metadata": {},
   "outputs": [],
   "source": [
    "N_visits = 1000\n",
    "num_arms = len(arms)\n",
    "num_visits = [ 0 for i in range(num_arms)]\n",
    "reward_sums = [ 0 for i in range(num_arms)]\n",
    "scores = []\n",
    "for i in range(N_visits):\n",
    "    post_samples = []\n",
    "    for j in range(num_arms):\n",
    "        sample = posterior(prior_std, num_visits[j], reward_sums[j])\n",
    "        post_samples.append(sample)\n",
    "    arm_chosen = np.argmax(post_samples)\n",
    "    reward = arms[arm_chosen].sample()\n",
    "    reward_sums[arm_chosen] += reward \n",
    "    num_visits[arm_chosen] += 1\n",
    "    scores.append(reward)"
   ]
  },
  {
   "cell_type": "code",
   "execution_count": 24,
   "id": "57bd272f-7c14-44da-a88b-f60953d9f900",
   "metadata": {},
   "outputs": [
    {
     "data": {
      "text/plain": [
       "[11, 989]"
      ]
     },
     "execution_count": 24,
     "metadata": {},
     "output_type": "execute_result"
    }
   ],
   "source": [
    "num_visits"
   ]
  },
  {
   "cell_type": "code",
   "execution_count": null,
   "id": "3f690aec-e1e3-4b12-a35f-54d5b3cba29d",
   "metadata": {},
   "outputs": [],
   "source": []
  }
 ],
 "metadata": {
  "kernelspec": {
   "display_name": "Python 3 (ipykernel)",
   "language": "python",
   "name": "python3"
  },
  "language_info": {
   "codemirror_mode": {
    "name": "ipython",
    "version": 3
   },
   "file_extension": ".py",
   "mimetype": "text/x-python",
   "name": "python",
   "nbconvert_exporter": "python",
   "pygments_lexer": "ipython3",
   "version": "3.12.7"
  }
 },
 "nbformat": 4,
 "nbformat_minor": 5
}
