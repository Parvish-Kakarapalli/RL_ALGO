{
 "cells": [
  {
   "cell_type": "code",
   "execution_count": 29,
   "id": "6aba5cdf-12fd-436b-8f67-bba8f74a7e09",
   "metadata": {},
   "outputs": [],
   "source": [
    "import gym\n",
    "import torch.nn as nn\n",
    "import torch \n",
    "import torch.optim as optim\n",
    "import torch.nn.functional as F\n",
    "import matplotlib.pyplot as plt\n",
    "import numpy as np"
   ]
  },
  {
   "cell_type": "code",
   "execution_count": 3,
   "id": "f73ae778-cb93-4608-a4fa-a17fdf810ed4",
   "metadata": {},
   "outputs": [
    {
     "data": {
      "text/plain": [
       "((4,), 2)"
      ]
     },
     "execution_count": 3,
     "metadata": {},
     "output_type": "execute_result"
    }
   ],
   "source": [
    "env = gym.make('CartPole-v1')\n",
    "state_space = env.observation_space.shape\n",
    "action_space = env.action_space.n\n",
    "state_space, action_space"
   ]
  },
  {
   "cell_type": "code",
   "execution_count": 18,
   "id": "9c5c2bee-8369-4965-8c69-b2ef81185a5e",
   "metadata": {},
   "outputs": [],
   "source": [
    "class Model(nn.Module):\n",
    "    def __init__(self):\n",
    "        super().__init__()\n",
    "        self.layer_1 = nn.Linear(state_space[0], 25)\n",
    "        self.layer_2 = nn.Linear(25, 100)\n",
    "        self.layer_3 = nn.Linear(100, action_space)\n",
    "\n",
    "    def  forward(self, x):\n",
    "        y = F.relu(self.layer_1(x))\n",
    "        y = F.relu(self.layer_2(y))\n",
    "        y = self.layer_3(y)\n",
    "        return y\n",
    "        "
   ]
  },
  {
   "cell_type": "code",
   "execution_count": 20,
   "id": "cc75cabf-c187-47ab-85df-f3ab4b1ce34d",
   "metadata": {},
   "outputs": [
    {
     "data": {
      "text/plain": [
       "device(type='cuda', index=0)"
      ]
     },
     "execution_count": 20,
     "metadata": {},
     "output_type": "execute_result"
    }
   ],
   "source": [
    "device = torch.device('cuda:0' if torch.cuda.is_available() else 'cpu')\n",
    "device"
   ]
  },
  {
   "cell_type": "code",
   "execution_count": 24,
   "id": "736b55ff-c25e-41c9-b114-5820fdac77b4",
   "metadata": {},
   "outputs": [
    {
     "data": {
      "text/plain": [
       "<All keys matched successfully>"
      ]
     },
     "execution_count": 24,
     "metadata": {},
     "output_type": "execute_result"
    }
   ],
   "source": [
    "q_network = Model()\n",
    "target_network = Model()\n",
    "target_network.load_state_dict(q_network.state_dict())"
   ]
  },
  {
   "cell_type": "code",
   "execution_count": 74,
   "id": "504cc4f8-3b69-4156-a8bc-f37b9e0d1be6",
   "metadata": {},
   "outputs": [],
   "source": [
    "import numpy as np\n",
    "\n",
    "class ReplayBuffer:\n",
    "    def __init__(self, max_size, batch_size, state_space, action_dim):\n",
    "        self.max_size = max_size\n",
    "        self.batch_size = batch_size\n",
    "        self.counter = 0\n",
    "        self.states = np.zeros((max_size, *state_space), dtype=np.float32)\n",
    "        self.actions = np.zeros((max_size, action_dim), dtype=np.float32)\n",
    "        self.next_states = np.zeros((max_size, *state_space), dtype=np.float32)\n",
    "        self.rewards = np.zeros(max_size, dtype=np.float32)\n",
    "        self.dones = np.zeros(max_size, dtype=np.float32)\n",
    "\n",
    "    def store(self, state, action, reward, next_state, done):\n",
    "        idx = self.counter % self.max_size\n",
    "        self.states[idx] = state\n",
    "        self.actions[idx] = action\n",
    "        self.rewards[idx] = reward\n",
    "        self.next_states[idx] = next_state\n",
    "        self.dones[idx] = float(done)\n",
    "        self.counter += 1\n",
    "\n",
    "    def sample(self):\n",
    "        if self.counter < self.batch_size:\n",
    "            raise ValueError('Insufficient samples in the replay buffer.')\n",
    "        max_index = min(self.max_size, self.counter)\n",
    "        indices = np.random.randint(0, max_index, size=self.batch_size)\n",
    "        return (\n",
    "            self.states[indices],\n",
    "            self.actions[indices],\n",
    "            self.rewards[indices],\n",
    "            self.next_states[indices],\n",
    "            self.dones[indices],\n",
    "        )\n"
   ]
  },
  {
   "cell_type": "code",
   "execution_count": 75,
   "id": "d45ba762-6f8b-4113-8a3a-95b0ab7896af",
   "metadata": {},
   "outputs": [],
   "source": [
    "replay_buffer = ReplayBuffer(10000, 32, state_space, action_space)"
   ]
  },
  {
   "cell_type": "code",
   "execution_count": 76,
   "id": "409a6299-9476-4c8c-8d75-d6d39bb2240b",
   "metadata": {},
   "outputs": [
    {
     "data": {
      "text/plain": [
       "((10000, 4), (10000, 2), (10000,), (10000, 4), (10000,))"
      ]
     },
     "execution_count": 76,
     "metadata": {},
     "output_type": "execute_result"
    }
   ],
   "source": [
    "replay_buffer.states.shape, replay_buffer.actions.shape, replay_buffer.rewards.shape, replay_buffer.next_states.shape, replay_buffer.dones.shape"
   ]
  },
  {
   "cell_type": "code",
   "execution_count": 78,
   "id": "2454ae9a-58ac-49b0-9d7d-ea648e87ff8c",
   "metadata": {},
   "outputs": [],
   "source": [
    "q_network = q_network.to(device)\n",
    "target_network = target_network.to(device)"
   ]
  },
  {
   "cell_type": "code",
   "execution_count": 79,
   "id": "284cc046-0567-4cfb-9bac-b4d6aa483bb3",
   "metadata": {},
   "outputs": [
    {
     "ename": "AttributeError",
     "evalue": "'Model' object has no attribute 'device'",
     "output_type": "error",
     "traceback": [
      "\u001b[1;31m---------------------------------------------------------------------------\u001b[0m",
      "\u001b[1;31mAttributeError\u001b[0m                            Traceback (most recent call last)",
      "Cell \u001b[1;32mIn[79], line 1\u001b[0m\n\u001b[1;32m----> 1\u001b[0m q_network\u001b[38;5;241m.\u001b[39mdevice\n",
      "File \u001b[1;32m~\\anaconda3\\envs\\test_env\\Lib\\site-packages\\torch\\nn\\modules\\module.py:1931\u001b[0m, in \u001b[0;36mModule.__getattr__\u001b[1;34m(self, name)\u001b[0m\n\u001b[0;32m   1929\u001b[0m     \u001b[38;5;28;01mif\u001b[39;00m name \u001b[38;5;129;01min\u001b[39;00m modules:\n\u001b[0;32m   1930\u001b[0m         \u001b[38;5;28;01mreturn\u001b[39;00m modules[name]\n\u001b[1;32m-> 1931\u001b[0m \u001b[38;5;28;01mraise\u001b[39;00m \u001b[38;5;167;01mAttributeError\u001b[39;00m(\n\u001b[0;32m   1932\u001b[0m     \u001b[38;5;124mf\u001b[39m\u001b[38;5;124m\"\u001b[39m\u001b[38;5;124m'\u001b[39m\u001b[38;5;132;01m{\u001b[39;00m\u001b[38;5;28mtype\u001b[39m(\u001b[38;5;28mself\u001b[39m)\u001b[38;5;241m.\u001b[39m\u001b[38;5;18m__name__\u001b[39m\u001b[38;5;132;01m}\u001b[39;00m\u001b[38;5;124m'\u001b[39m\u001b[38;5;124m object has no attribute \u001b[39m\u001b[38;5;124m'\u001b[39m\u001b[38;5;132;01m{\u001b[39;00mname\u001b[38;5;132;01m}\u001b[39;00m\u001b[38;5;124m'\u001b[39m\u001b[38;5;124m\"\u001b[39m\n\u001b[0;32m   1933\u001b[0m )\n",
      "\u001b[1;31mAttributeError\u001b[0m: 'Model' object has no attribute 'device'"
     ]
    }
   ],
   "source": [
    "q_network.device"
   ]
  },
  {
   "cell_type": "code",
   "execution_count": null,
   "id": "9eca15e3-8b8e-4b47-b038-96869f65bfcd",
   "metadata": {},
   "outputs": [],
   "source": []
  }
 ],
 "metadata": {
  "kernelspec": {
   "display_name": "Python 3 (ipykernel)",
   "language": "python",
   "name": "python3"
  },
  "language_info": {
   "codemirror_mode": {
    "name": "ipython",
    "version": 3
   },
   "file_extension": ".py",
   "mimetype": "text/x-python",
   "name": "python",
   "nbconvert_exporter": "python",
   "pygments_lexer": "ipython3",
   "version": "3.12.7"
  }
 },
 "nbformat": 4,
 "nbformat_minor": 5
}
