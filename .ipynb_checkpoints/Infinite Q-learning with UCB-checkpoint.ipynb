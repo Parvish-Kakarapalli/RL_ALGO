{
 "cells": [
  {
   "cell_type": "markdown",
   "id": "4e46662d-4968-4c6f-b1dc-16f65873f487",
   "metadata": {},
   "source": [
    "Paper link: https://arxiv.org/pdf/1901.09311"
   ]
  },
  {
   "cell_type": "code",
   "execution_count": 424,
   "id": "cb966189-0d6c-45e8-97a8-107d9fc0452d",
   "metadata": {},
   "outputs": [],
   "source": [
    "import numpy as np\n",
    "import matplotlib.pyplot as plt\n",
    "from math import ceil, floor"
   ]
  },
  {
   "cell_type": "code",
   "execution_count": 440,
   "id": "801c6853-c6f5-4607-a9bd-85de79ac11aa",
   "metadata": {},
   "outputs": [],
   "source": [
    "import numpy as np\n",
    "\n",
    "def generate_better_structured_mdp(num_states=30, num_actions=4, spread=3, goal_states=[25, 29], seed=None):\n",
    "    if seed is not None:\n",
    "        np.random.seed(seed)\n",
    "\n",
    "    P = np.zeros((num_states, num_actions, num_states))\n",
    "    R_ = np.zeros((num_states, num_actions))\n",
    "\n",
    "    for s in range(num_states):\n",
    "        for a in range(num_actions):\n",
    "            # Bias transitions depending on action (e.g., left, right, stay, jump)\n",
    "            if a == 0:  # move left\n",
    "                center = max(0, s - 1)\n",
    "            elif a == 1:  # move right\n",
    "                center = min(num_states - 1, s + 1)\n",
    "            elif a == 2:  # stay\n",
    "                center = s\n",
    "            else:  # jump to random goal\n",
    "                center = np.random.choice(goal_states)\n",
    "\n",
    "            indices = np.arange(num_states)\n",
    "            weights = np.exp(-((indices - center) ** 2) / (2 * spread ** 2))\n",
    "            weights /= weights.sum()\n",
    "            P[s, a] = weights\n",
    "\n",
    "            # Rewards: high reward at goal states, small negative elsewhere to encourage shorter paths\n",
    "            expected_next_state = np.argmax(weights)\n",
    "            if expected_next_state in goal_states:\n",
    "                R_[s, a] = 1.0 - np.random.uniform(0, 0.05)  # goal reward\n",
    "            else:\n",
    "                R_[s, a] = -0.01 - np.random.uniform(0, 0.01)  # small step cost\n",
    "\n",
    "    return P, R_\n",
    "\n",
    "# Example usage\n",
    "P, R_ = generate_better_structured_mdp(seed=42)\n",
    "\n",
    "num_states, num_actions, _ = P.shape\n",
    "\n",
    "def get_next_state(state, action):\n",
    "    return np.random.choice(num_states, p=P[state, action])\n",
    "\n",
    "def get_reward(state, action):\n",
    "    return R_[state, action]\n"
   ]
  },
  {
   "cell_type": "code",
   "execution_count": 441,
   "id": "2d2c5453-8030-4b24-b80f-c1fdaaf5f954",
   "metadata": {},
   "outputs": [
    {
     "data": {
      "text/plain": [
       "array([[8.82912783, 8.8241908 , 8.8255533 , 9.82491829],\n",
       "       [8.82841491, 8.8335448 , 8.82910545, 9.82470505],\n",
       "       [8.82661722, 8.83504858, 8.82484545, 9.80725382],\n",
       "       [8.83453676, 8.82573797, 8.82907961, 9.82794363],\n",
       "       [8.83093498, 8.83274186, 8.82954156, 9.85184817],\n",
       "       [8.82592253, 8.83292056, 8.83474809, 9.84419776],\n",
       "       [8.83051181, 8.82865295, 8.83478377, 9.82074543],\n",
       "       [8.83074328, 8.83370699, 8.82515508, 9.81376158],\n",
       "       [8.83153095, 8.83224346, 8.82699731, 9.82059763],\n",
       "       [8.82773967, 8.824504  , 8.83148653, 9.8418218 ],\n",
       "       [8.82659496, 8.82960456, 8.82763527, 9.82579643],\n",
       "       [8.83252282, 8.82441371, 8.82822413, 9.80944008],\n",
       "       [8.82674267, 8.82387307, 8.83195163, 9.82871909],\n",
       "       [8.82322484, 8.82496107, 8.82561861, 9.81332393],\n",
       "       [8.82952428, 8.83096384, 8.82797945, 9.83994713],\n",
       "       [8.83175374, 8.83412769, 8.82953917, 9.84482502],\n",
       "       [8.83371797, 8.82692237, 8.82721548, 9.81525203],\n",
       "       [8.82822445, 8.82696975, 8.82856622, 9.81102628],\n",
       "       [8.82884401, 8.83439286, 8.83559717, 9.82131874],\n",
       "       [8.82957353, 8.8334078 , 8.83495462, 9.83115006],\n",
       "       [8.8365059 , 8.83376522, 8.83171293, 9.8423822 ],\n",
       "       [8.83676009, 8.84188581, 8.83379104, 9.85291049],\n",
       "       [8.83981875, 8.84310754, 8.83592604, 9.82601767],\n",
       "       [8.83533499, 8.84286003, 8.83737766, 9.81698325],\n",
       "       [8.84113385, 9.85091181, 8.84135583, 9.81015806],\n",
       "       [8.83800981, 8.84198895, 9.84948609, 9.81399785],\n",
       "       [9.8454323 , 8.83592531, 8.83955187, 9.84807705],\n",
       "       [8.84138231, 8.83549418, 8.84212958, 9.83340541],\n",
       "       [8.83667075, 9.81114492, 8.84449294, 9.82747698],\n",
       "       [8.83971416, 9.81955965, 9.84071083, 9.80703597]])"
      ]
     },
     "execution_count": 441,
     "metadata": {},
     "output_type": "execute_result"
    }
   ],
   "source": [
    "def value_iteration(P, R, gamma=0.99, theta=1e-6):\n",
    "    num_states, num_actions, _ = P.shape\n",
    "    Q = np.zeros((num_states, num_actions))  # Initialize Q-values to zero\n",
    "\n",
    "    while True:\n",
    "        delta = 0\n",
    "        Q_new = np.copy(Q)\n",
    "\n",
    "        for s in range(num_states):\n",
    "            for a in range(num_actions):\n",
    "                Q_new[s, a] = R_[s, a] + gamma * np.dot(P[s, a], np.max(Q, axis=1))\n",
    "        \n",
    "        delta = np.max(np.abs(Q_new - Q))\n",
    "        Q = Q_new\n",
    "\n",
    "        if delta < theta:\n",
    "            break\n",
    "\n",
    "    return Q\n",
    "Q_optimal = value_iteration(P, R_, gamma=0.9)\n",
    "Q_optimal"
   ]
  },
  {
   "cell_type": "code",
   "execution_count": 442,
   "id": "36f7dd66-ab71-433b-aa9b-3b7df712139f",
   "metadata": {},
   "outputs": [],
   "source": [
    "delta = 0.01\n",
    "gamma = 0.9\n",
    "eps = (1-gamma)*5"
   ]
  },
  {
   "cell_type": "code",
   "execution_count": 443,
   "id": "21b1ec23-58ea-4da6-90f6-c4616cec3a02",
   "metadata": {},
   "outputs": [],
   "source": [
    "Q = np.ones((num_states, num_actions))*(1/(1-gamma))\n",
    "Q_hat = np.ones((num_states, num_actions))*(1/(1-gamma))\n",
    "N = np.zeros((num_states, num_actions))\n",
    "R = ceil(np.log(3/(eps*(1-gamma)))/(1-gamma))\n",
    "eps_2 = eps / 3\n",
    "L = int(floor(np.log(R) / np.log(2)))\n",
    "eps_L = (1/2**(L+2))*eps_2*((-np.log(1-gamma))**-1)\n",
    "M = np.max([10, int(ceil(-2*np.log(eps_L*(1-gamma))))])\n",
    "eps_1 = eps / (24*R*M*np.log(1/(1-gamma)))\n",
    "H = int(np.ceil(np.log(1/((1-gamma)*eps_1)) / np.log(1/gamma)))\n",
    "c_2 = (1-gamma)/10\n",
    "Tmax = 5000\n",
    "def l_k(k, S=num_states, A=num_actions, delta=delta):\n",
    "    return np.log(S*A*(k+1)*(k+2)/delta)\n",
    "def alpha_k(k, H):\n",
    "    return (H+1)/(H+k)"
   ]
  },
  {
   "cell_type": "code",
   "execution_count": 444,
   "id": "ade0bd11-4fa2-429e-9a63-ee7b30601438",
   "metadata": {},
   "outputs": [],
   "source": [
    "errors = {'ucb':[], 'eps-greedy':[]}\n",
    "policy_mismatch = {\"ucb\":[], 'eps-greedy':[]}"
   ]
  },
  {
   "cell_type": "code",
   "execution_count": 445,
   "id": "0d526497-acfa-4144-ac40-e8c4e532412f",
   "metadata": {},
   "outputs": [],
   "source": [
    "optimal_policy = np.argmax(Q_optimal, axis=-1)"
   ]
  },
  {
   "cell_type": "code",
   "execution_count": 446,
   "id": "7a43f4a8-3eb4-4d63-9dcd-a3da33706c86",
   "metadata": {},
   "outputs": [],
   "source": [
    "s = 0\n",
    "for t in range(1, Tmax+1):\n",
    "    q_values = Q_hat[s]\n",
    "    max_value = np.max(q_values)\n",
    "    best_actions = np.flatnonzero(q_values == max_value)\n",
    "    a = np.random.choice(best_actions)\n",
    "    s_ = get_next_state(s, a)\n",
    "    r = get_reward(s, a)\n",
    "    N[s, a] = N[s, a] + 1\n",
    "    k = N[s, a]\n",
    "    b_k = (c_2/(1-gamma))*np.sqrt(H*l_k(k)/k)\n",
    "    # b_k = 0\n",
    "    V_hat = np.max(Q_hat[s_])\n",
    "    alpha = alpha_k(k, H)\n",
    "    Q[s, a] = (1 - alpha)*Q[s, a] + alpha*(r + b_k + gamma*V_hat) \n",
    "    Q_hat[s, a] = min(Q_hat[s, a], Q[s, a])\n",
    "    s = s_    \n",
    "    error = np.max(np.abs(Q_optimal - Q))\n",
    "    errors['ucb'].append(error)\n",
    "    policy_mismatch['ucb'].append(np.sum(optimal_policy != np.argmax(Q, axis=-1)))\n",
    "    "
   ]
  },
  {
   "cell_type": "code",
   "execution_count": 447,
   "id": "0fd47d56-f6c4-4183-ad46-d7d8a340ffa2",
   "metadata": {},
   "outputs": [],
   "source": [
    "Q_ucb = Q.copy()"
   ]
  },
  {
   "cell_type": "code",
   "execution_count": 448,
   "id": "a50af0be-69c0-4d4a-937c-b7724fff27b5",
   "metadata": {},
   "outputs": [],
   "source": [
    "eps = 0.2\n",
    "s = 0\n",
    "Q = np.zeros((num_states, num_actions))\n",
    "for t in range(1, Tmax + 1):\n",
    "    q_values = Q[s]\n",
    "\n",
    "    if np.random.rand() < eps:\n",
    "        a = np.random.choice(len(q_values))  # Explore\n",
    "    else:\n",
    "        max_value = np.max(q_values)\n",
    "        best_actions = np.flatnonzero(q_values == max_value)\n",
    "        a = np.random.choice(best_actions)  # Exploit with tie-breaking\n",
    "\n",
    "    s_ = get_next_state(s, a)\n",
    "    r = get_reward(s, a)\n",
    "\n",
    "    alpha = (H + 1) / (H + t)  \n",
    "    V_hat = np.max(Q[s_])\n",
    "    Q[s, a] = (1 - alpha) * Q[s, a] + alpha * (r + gamma * V_hat)\n",
    "\n",
    "    s = s_\n",
    "    error = np.max(np.abs(Q_optimal - Q))\n",
    "    errors['eps-greedy'].append(error)\n",
    "    policy_mismatch['eps-greedy'].append(np.sum(optimal_policy != np.argmax(Q, axis=-1)))\n"
   ]
  },
  {
   "cell_type": "code",
   "execution_count": 449,
   "id": "8fddfaa8-0b78-4cb6-920c-3d20c6a95780",
   "metadata": {},
   "outputs": [],
   "source": [
    "Q_eps = Q.copy()"
   ]
  },
  {
   "cell_type": "code",
   "execution_count": 450,
   "id": "a52dcbac-9686-4c60-b73b-6d4c6c302e37",
   "metadata": {},
   "outputs": [
    {
     "data": {
      "image/png": "[encoded data removed]",
      "text/plain": [
       "<Figure size 640x480 with 1 Axes>"
      ]
     },
     "metadata": {},
     "output_type": "display_data"
    }
   ],
   "source": [
    "plt.plot(errors['eps-greedy'], label='eps-greedy')\n",
    "plt.plot(errors['ucb'], label='ucb')\n",
    "plt.legend()\n",
    "plt.show()"
   ]
  },
  {
   "cell_type": "code",
   "execution_count": 451,
   "id": "a00686bb-4ac6-45bb-b9d1-cc2ea691c9b1",
   "metadata": {},
   "outputs": [
    {
     "data": {
      "image/png": "[encoded data removed]",
      "text/plain": [
       "<Figure size 640x480 with 1 Axes>"
      ]
     },
     "metadata": {},
     "output_type": "display_data"
    }
   ],
   "source": [
    "plt.plot(policy_mismatch['eps-greedy'], label='eps-greedy')\n",
    "plt.plot(policy_mismatch['ucb'], label='ucb')\n",
    "plt.legend()\n",
    "plt.show()"
   ]
  },
  {
   "cell_type": "code",
   "execution_count": 452,
   "id": "09a2873c-4fb2-4e34-ad12-dec052c30a86",
   "metadata": {},
   "outputs": [
    {
     "data": {
      "text/plain": [
       "array([[ 0.00000000e+00, -1.95071431e-02,  0.00000000e+00,\n",
       "         0.00000000e+00],\n",
       "       [ 0.00000000e+00,  0.00000000e+00,  0.00000000e+00,\n",
       "         0.00000000e+00],\n",
       "       [ 0.00000000e+00, -1.01291093e-02,  0.00000000e+00,\n",
       "         0.00000000e+00],\n",
       "       [ 0.00000000e+00, -1.96247706e-02,  0.00000000e+00,\n",
       "         0.00000000e+00],\n",
       "       [ 0.00000000e+00,  0.00000000e+00,  0.00000000e+00,\n",
       "         1.14016812e+00],\n",
       "       [ 0.00000000e+00,  0.00000000e+00,  0.00000000e+00,\n",
       "         0.00000000e+00],\n",
       "       [ 0.00000000e+00,  0.00000000e+00,  0.00000000e+00,\n",
       "         0.00000000e+00],\n",
       "       [ 0.00000000e+00,  0.00000000e+00, -1.27547578e-02,\n",
       "         0.00000000e+00],\n",
       "       [ 0.00000000e+00, -1.07327940e-02,  0.00000000e+00,\n",
       "         0.00000000e+00],\n",
       "       [-2.95988243e-03,  0.00000000e+00, -1.13885393e-02,\n",
       "         0.00000000e+00],\n",
       "       [ 0.00000000e+00,  0.00000000e+00, -1.00324489e-02,\n",
       "         0.00000000e+00],\n",
       "       [ 0.00000000e+00,  0.00000000e+00,  0.00000000e+00,\n",
       "         0.00000000e+00],\n",
       "       [ 0.00000000e+00, -1.25587821e-02,  0.00000000e+00,\n",
       "         1.76822753e+00],\n",
       "       [-1.93707370e-02,  0.00000000e+00,  0.00000000e+00,\n",
       "         1.56345244e+00],\n",
       "       [ 0.00000000e+00, -1.22524170e-02,  0.00000000e+00,\n",
       "         3.86335166e+00],\n",
       "       [ 0.00000000e+00,  0.00000000e+00,  0.00000000e+00,\n",
       "         3.83088591e+00],\n",
       "       [ 1.82358185e+00,  0.00000000e+00,  1.50197790e-01,\n",
       "         3.82683448e+00],\n",
       "       [ 1.50772893e+00,  1.04825508e+00,  1.26099093e+00,\n",
       "         6.43586273e+00],\n",
       "       [ 7.24247771e-01,  3.78646983e-01,  2.75457992e-01,\n",
       "         6.98897163e+00],\n",
       "       [ 1.43616505e+00,  3.37956315e+00,  2.01059954e+00,\n",
       "         7.60087708e+00],\n",
       "       [ 2.68881916e+00,  2.37578804e+00,  2.46100764e+00,\n",
       "         7.85114462e+00],\n",
       "       [ 2.92103176e+00,  3.99930007e+00,  3.34847949e+00,\n",
       "         7.89157871e+00],\n",
       "       [ 4.60568376e+00,  6.60249077e+00,  4.41812076e+00,\n",
       "         5.02026397e+00],\n",
       "       [ 5.15078323e+00,  4.64306505e+00,  6.54093578e+00,\n",
       "         5.75215897e+00],\n",
       "       [ 4.89120692e+00,  7.69415145e+00,  5.36879389e+00,\n",
       "         6.27715194e+00],\n",
       "       [ 5.56459970e+00,  5.97582355e+00,  7.73146533e+00,\n",
       "         6.80329029e+00],\n",
       "       [ 7.69884489e+00,  5.86623711e+00,  5.63647401e+00,\n",
       "         6.78339850e+00],\n",
       "       [ 5.65371458e+00,  5.88328219e+00,  5.07888253e+00,\n",
       "         7.80413712e+00],\n",
       "       [ 5.42482782e+00,  7.94354834e+00,  5.66871976e+00,\n",
       "         6.86786404e+00],\n",
       "       [ 5.41136062e+00,  5.98495050e+00,  7.98293953e+00,\n",
       "         5.28101903e+00]])"
      ]
     },
     "execution_count": 452,
     "metadata": {},
     "output_type": "execute_result"
    }
   ],
   "source": [
    "Q_eps"
   ]
  },
  {
   "cell_type": "code",
   "execution_count": 453,
   "id": "d62555d8-e9aa-41ea-abb7-2f7d9d720eb2",
   "metadata": {},
   "outputs": [
    {
     "data": {
      "text/plain": [
       "array([[10.        , 12.80823266, 10.        , 10.        ],\n",
       "       [10.        , 10.        , 10.        , 13.79768406],\n",
       "       [10.        , 10.        , 10.        , 10.        ],\n",
       "       [10.        , 10.        , 10.        , 12.77080113],\n",
       "       [10.        , 10.        , 10.        , 10.        ],\n",
       "       [10.        , 10.        , 10.        , 13.81775612],\n",
       "       [10.        , 10.        , 12.8172753 , 13.79372443],\n",
       "       [10.        , 10.        , 12.80831779, 13.78731994],\n",
       "       [10.        , 10.        , 10.        , 10.        ],\n",
       "       [11.78093899, 12.80940786, 11.78530531, 10.        ],\n",
       "       [10.        , 11.31976992, 11.78183827, 10.        ],\n",
       "       [11.3225739 , 11.77861611, 11.78254141, 10.        ],\n",
       "       [12.81176081, 11.77782021, 11.78615403, 12.30684532],\n",
       "       [12.80812809, 12.80929447, 10.69957191, 12.01186361],\n",
       "       [11.3193195 , 10.84779328, 12.81231285, 11.30092138],\n",
       "       [10.42521696, 12.81758344, 10.84636861, 11.70710933],\n",
       "       [10.70698989, 10.49496716, 10.41980106, 11.22692661],\n",
       "       [10.29967545, 10.24717238, 10.84409185, 11.17955495],\n",
       "       [10.2502024 , 10.17025633, 10.17292972, 11.15012325],\n",
       "       [ 9.99517769,  9.99592394,  9.9990897 , 10.91017662],\n",
       "       [ 9.97914751,  9.99470447,  9.99422906, 10.55523808],\n",
       "       [ 9.99927623,  9.97993912,  9.99473029, 10.45058937],\n",
       "       [ 9.97926454,  9.98002916,  9.99547281, 10.34802474],\n",
       "       [ 9.99488175,  9.97895014,  9.99579274, 10.28435147],\n",
       "       [ 9.99954893, 10.36101357,  9.9989394 , 10.30978169],\n",
       "       [ 9.99559337,  9.99888058, 10.31967987, 10.30564598],\n",
       "       [10.28321555,  9.99291133,  9.99644349, 10.30105086],\n",
       "       [ 9.99827394,  9.99276863,  9.99911559, 10.19609155],\n",
       "       [ 9.99365677, 10.23514189,  9.98027393, 10.25182367],\n",
       "       [ 9.99698862, 10.29562482, 10.32558532, 10.2837063 ]])"
      ]
     },
     "execution_count": 453,
     "metadata": {},
     "output_type": "execute_result"
    }
   ],
   "source": [
    "Q_ucb"
   ]
  },
  {
   "cell_type": "code",
   "execution_count": 454,
   "id": "fdd59f2b-1b37-49e4-9304-01b2e6963e5c",
   "metadata": {},
   "outputs": [
    {
     "data": {
      "text/plain": [
       "array([[8.82912783, 8.8241908 , 8.8255533 , 9.82491829],\n",
       "       [8.82841491, 8.8335448 , 8.82910545, 9.82470505],\n",
       "       [8.82661722, 8.83504858, 8.82484545, 9.80725382],\n",
       "       [8.83453676, 8.82573797, 8.82907961, 9.82794363],\n",
       "       [8.83093498, 8.83274186, 8.82954156, 9.85184817],\n",
       "       [8.82592253, 8.83292056, 8.83474809, 9.84419776],\n",
       "       [8.83051181, 8.82865295, 8.83478377, 9.82074543],\n",
       "       [8.83074328, 8.83370699, 8.82515508, 9.81376158],\n",
       "       [8.83153095, 8.83224346, 8.82699731, 9.82059763],\n",
       "       [8.82773967, 8.824504  , 8.83148653, 9.8418218 ],\n",
       "       [8.82659496, 8.82960456, 8.82763527, 9.82579643],\n",
       "       [8.83252282, 8.82441371, 8.82822413, 9.80944008],\n",
       "       [8.82674267, 8.82387307, 8.83195163, 9.82871909],\n",
       "       [8.82322484, 8.82496107, 8.82561861, 9.81332393],\n",
       "       [8.82952428, 8.83096384, 8.82797945, 9.83994713],\n",
       "       [8.83175374, 8.83412769, 8.82953917, 9.84482502],\n",
       "       [8.83371797, 8.82692237, 8.82721548, 9.81525203],\n",
       "       [8.82822445, 8.82696975, 8.82856622, 9.81102628],\n",
       "       [8.82884401, 8.83439286, 8.83559717, 9.82131874],\n",
       "       [8.82957353, 8.8334078 , 8.83495462, 9.83115006],\n",
       "       [8.8365059 , 8.83376522, 8.83171293, 9.8423822 ],\n",
       "       [8.83676009, 8.84188581, 8.83379104, 9.85291049],\n",
       "       [8.83981875, 8.84310754, 8.83592604, 9.82601767],\n",
       "       [8.83533499, 8.84286003, 8.83737766, 9.81698325],\n",
       "       [8.84113385, 9.85091181, 8.84135583, 9.81015806],\n",
       "       [8.83800981, 8.84198895, 9.84948609, 9.81399785],\n",
       "       [9.8454323 , 8.83592531, 8.83955187, 9.84807705],\n",
       "       [8.84138231, 8.83549418, 8.84212958, 9.83340541],\n",
       "       [8.83667075, 9.81114492, 8.84449294, 9.82747698],\n",
       "       [8.83971416, 9.81955965, 9.84071083, 9.80703597]])"
      ]
     },
     "execution_count": 454,
     "metadata": {},
     "output_type": "execute_result"
    }
   ],
   "source": [
    "Q_optimal"
   ]
  },
  {
   "cell_type": "code",
   "execution_count": 455,
   "id": "3e36034c-6ad5-4304-b87f-0ebb23c70d12",
   "metadata": {},
   "outputs": [
    {
     "data": {
      "text/plain": [
       "array([1, 3, 0, 3, 0, 3, 3, 3, 0, 1, 2, 2, 0, 1, 2, 1, 3, 3, 3, 3, 3, 3,\n",
       "       3, 3, 1, 2, 3, 3, 3, 2], dtype=int64)"
      ]
     },
     "execution_count": 455,
     "metadata": {},
     "output_type": "execute_result"
    }
   ],
   "source": [
    "np.argmax(Q_ucb,axis=-1)"
   ]
  },
  {
   "cell_type": "code",
   "execution_count": 456,
   "id": "719cf47f-8607-4b12-ab98-4cd12588c14e",
   "metadata": {},
   "outputs": [
    {
     "data": {
      "text/plain": [
       "array([0, 0, 0, 0, 3, 0, 0, 0, 0, 1, 0, 0, 3, 3, 3, 3, 3, 3, 3, 3, 3, 3,\n",
       "       1, 2, 1, 2, 0, 3, 1, 2], dtype=int64)"
      ]
     },
     "execution_count": 456,
     "metadata": {},
     "output_type": "execute_result"
    }
   ],
   "source": [
    "np.argmax(Q_eps,axis=-1)"
   ]
  },
  {
   "cell_type": "code",
   "execution_count": 457,
   "id": "6a913bcb-3283-4c2e-9d9a-657f8a90dc2a",
   "metadata": {},
   "outputs": [
    {
     "data": {
      "text/plain": [
       "array([3, 3, 3, 3, 3, 3, 3, 3, 3, 3, 3, 3, 3, 3, 3, 3, 3, 3, 3, 3, 3, 3,\n",
       "       3, 3, 1, 2, 3, 3, 3, 2], dtype=int64)"
      ]
     },
     "execution_count": 457,
     "metadata": {},
     "output_type": "execute_result"
    }
   ],
   "source": [
    "np.argmax(Q_optimal,axis=-1)"
   ]
  },
  {
   "cell_type": "code",
   "execution_count": null,
   "id": "fb2f38bd-65d0-46ab-be1f-2524d96143bf",
   "metadata": {},
   "outputs": [],
   "source": []
  },
  {
   "cell_type": "code",
   "execution_count": null,
   "id": "70896ee6-d8ca-46ad-93ce-9e9689f100db",
   "metadata": {},
   "outputs": [],
   "source": []
  }
 ],
 "metadata": {
  "kernelspec": {
   "display_name": "Python 3 (ipykernel)",
   "language": "python",
   "name": "python3"
  },
  "language_info": {
   "codemirror_mode": {
    "name": "ipython",
    "version": 3
   },
   "file_extension": ".py",
   "mimetype": "text/x-python",
   "name": "python",
   "nbconvert_exporter": "python",
   "pygments_lexer": "ipython3",
   "version": "3.12.7"
  }
 },
 "nbformat": 4,
 "nbformat_minor": 5
}
