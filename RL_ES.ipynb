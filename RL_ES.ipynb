{
 "cells": [
  {
   "cell_type": "markdown",
   "id": "5638e311-a77d-473a-8612-4d034cfadec1",
   "metadata": {},
   "source": [
    "# Solving Cart Pole using ES"
   ]
  },
  {
   "cell_type": "code",
   "execution_count": 1,
   "id": "47e31b31-c9ea-4ab6-b4a8-d32d8d9a8632",
   "metadata": {},
   "outputs": [],
   "source": [
    "import numpy as np\n",
    "import torch.nn as nn\n",
    "import torch.nn.functional as F\n",
    "import torch\n",
    "import matplotlib.pyplot as plt"
   ]
  },
  {
   "cell_type": "code",
   "execution_count": 2,
   "id": "a0f1baf0-3b30-4dc9-a7dc-558cc5a77da4",
   "metadata": {},
   "outputs": [],
   "source": [
    "device = torch.device('cuda:0' if torch.cuda.is_available() else 'cpu')"
   ]
  },
  {
   "cell_type": "code",
   "execution_count": 3,
   "id": "fe9dad2f-db67-4672-9a19-0b48e18d7ab3",
   "metadata": {},
   "outputs": [
    {
     "data": {
      "text/plain": [
       "device(type='cuda', index=0)"
      ]
     },
     "execution_count": 3,
     "metadata": {},
     "output_type": "execute_result"
    }
   ],
   "source": [
    "device"
   ]
  },
  {
   "cell_type": "code",
   "execution_count": 4,
   "id": "17751624-ec8e-4d7b-92ba-11cee8b2a973",
   "metadata": {},
   "outputs": [],
   "source": [
    "def model(x, unpacked_params):\n",
    "    l1, b1, l2, b2, l3, b3 = unpacked_params\n",
    "    y = torch.relu(F.linear(x, l1, b1))\n",
    "    y = torch.relu(F.linear(y, l2, b2))\n",
    "    y = F.linear(y, l3, b3)\n",
    "\n",
    "    return y\n",
    "\n",
    "\n",
    "# def model(x,unpacked_params):\n",
    "#     l1,b1,l2,b2,l3,b3 = unpacked_params #A\n",
    "#     y = torch.nn.functional.linear(x,l1,b1) #B\n",
    "#     y = torch.relu(y) #C\n",
    "#     y = torch.nn.functional.linear(y,l2,b2)\n",
    "#     y = torch.relu(y)\n",
    "#     y = torch.nn.functional.linear(y,l3,b3)\n",
    "#     y = torch.log_softmax(y,dim=0) #D\n",
    "#     return y\n"
   ]
  },
  {
   "cell_type": "code",
   "execution_count": 5,
   "id": "c782af0c-1ff1-4303-b599-1b2a604a37d3",
   "metadata": {},
   "outputs": [],
   "source": [
    "def unpack_params(params, layers=[(25, 4), (10, 25), (2, 10)]):\n",
    "    unpacked_params = []\n",
    "    e = 0\n",
    "    for i, l in enumerate(layers):\n",
    "        s, e = e, e + np.prod(l)\n",
    "        weights = params[s:e].view(l)\n",
    "        s, e = e, e + l[0]\n",
    "        bias = params[s:e]\n",
    "        unpacked_params.extend([weights, bias])\n",
    "    return unpacked_params"
   ]
  },
  {
   "cell_type": "code",
   "execution_count": 6,
   "id": "21f97f52-3068-4676-8ac6-478495afd160",
   "metadata": {},
   "outputs": [],
   "source": [
    "def spawn_population(N=50, size=407):\n",
    "    pop = []\n",
    "    for i in range(N):\n",
    "        vec = torch.randn(size)/2.0\n",
    "        fit = 0\n",
    "        pop.append({'params': vec, 'fitness': fit})\n",
    "    return pop\n",
    "    \n",
    "def recombine(x1, x2):\n",
    "    x1 = x1['params']\n",
    "    x2 = x2['params']\n",
    "    l = x1.shape[0]\n",
    "    split_pt = np.random.randint(l)\n",
    "    child1 = torch.zeros(l)\n",
    "    child2 = torch.zeros(l)\n",
    "    child1[:split_pt] = x1[:split_pt]\n",
    "    child2[:split_pt] = x2[:split_pt]\n",
    "    child1[split_pt:] = x2[split_pt:]\n",
    "    child2[split_pt:] = x1[split_pt:]\n",
    "    c1 = {'params': child1, 'fitness': 0}\n",
    "    c2 = {'params': child2, 'fitness': 0}\n",
    "    return c1, c2\n",
    "\n",
    "def mutate(x, rate=0.01):\n",
    "    x_ = x['params']\n",
    "    num_to_change = int(rate*x_.shape[0])\n",
    "    idx = np.random.randint(low=0, high=x_.shape[0], size=(num_to_change,))\n",
    "    x_[idx] = torch.randn(num_to_change) / 10.0\n",
    "    x['params'] = x_\n",
    "\n",
    "    return x\n",
    "    "
   ]
  },
  {
   "cell_type": "code",
   "execution_count": 7,
   "id": "72d46fe5-9991-4633-9dee-50cbe3d93532",
   "metadata": {},
   "outputs": [],
   "source": [
    "import gym\n",
    "\n",
    "env = gym.make('CartPole-v0')\n",
    "\n",
    "def test_model(agent):\n",
    "    done = False\n",
    "    state = torch.from_numpy(env.reset()).float()\n",
    "    score = 0\n",
    "    while not done:\n",
    "        params = unpack_params(agent['params'])\n",
    "        logits = model(state, params)\n",
    "        action = torch.distributions.Categorical(logits=logits).sample()\n",
    "        state, reward, done, _ = env.step(action.item())\n",
    "        state = torch.from_numpy(state).float()\n",
    "        score += reward \n",
    "    return score\n",
    "\n",
    "def evaluate_population(pop):\n",
    "    total_fit = 0\n",
    "    lp = len(pop)\n",
    "    for agent in pop:\n",
    "        agent['fitness'] = test_model(agent)\n",
    "        total_fit += agent['fitness']\n",
    "\n",
    "    return pop, total_fit / lp\n",
    "\n",
    "        \n"
   ]
  },
  {
   "cell_type": "code",
   "execution_count": 8,
   "id": "f5466ef6-f672-497c-a003-64b843b81595",
   "metadata": {},
   "outputs": [],
   "source": [
    "def next_generation(pop, mut_rate=0.001, tournament_size=0.2):\n",
    "    new_pop = []\n",
    "    lp = len(pop)\n",
    "    while len(new_pop) < len(pop):\n",
    "        rids = np.random.randint(low=0, high=lp, size = int(tournament_size*lp))\n",
    "        batch = np.array([[i, x['fitness']] for (i, x) in enumerate(pop) if i in rids])\n",
    "        scores = batch[batch[:, 1].argsort()]\n",
    "        i0, i1 = int(scores[-1][0]), int(scores[-2][0])\n",
    "        parent_0, parent_1 = pop[i0], pop[i1]\n",
    "        offspring_ = recombine(parent_0, parent_1)\n",
    "        child_1 = mutate(offspring_[0], rate=mut_rate)\n",
    "        child_2 = mutate(offspring_[1], rate=mut_rate)\n",
    "        offspring = [child_1, child_2]\n",
    "        new_pop.extend(offspring)\n",
    "    return new_pop"
   ]
  },
  {
   "cell_type": "code",
   "execution_count": 9,
   "id": "5b77c538-81fc-46b0-a725-d67d8a5ca885",
   "metadata": {},
   "outputs": [
    {
     "name": "stdout",
     "output_type": "stream",
     "text": [
      "Generation: 1, score: 16.35\n",
      "Generation: 2, score: 21.172\n",
      "Generation: 3, score: 27.236\n",
      "Generation: 4, score: 37.132\n",
      "Generation: 5, score: 47.208\n",
      "Generation: 6, score: 101.432\n",
      "Generation: 7, score: 107.77\n",
      "Generation: 8, score: 123.532\n",
      "Generation: 9, score: 123.632\n",
      "Generation: 10, score: 138.552\n",
      "Generation: 11, score: 139.798\n",
      "Generation: 12, score: 135.864\n",
      "Generation: 13, score: 139.89\n",
      "Generation: 14, score: 147.512\n",
      "Generation: 15, score: 133.42\n",
      "Generation: 16, score: 138.282\n",
      "Generation: 17, score: 143.31\n",
      "Generation: 18, score: 137.544\n",
      "Generation: 19, score: 138.962\n",
      "Generation: 20, score: 143.71\n",
      "Generation: 21, score: 143.958\n",
      "Generation: 22, score: 147.916\n",
      "Generation: 23, score: 155.82\n",
      "Generation: 24, score: 148.952\n",
      "Generation: 25, score: 154.156\n"
     ]
    }
   ],
   "source": [
    "num_generations = 25\n",
    "population_size = 500\n",
    "mutation_rate = 0.01\n",
    "pop_fit = []\n",
    "pop = spawn_population(N=population_size, size=407)\n",
    "for i in range(num_generations):\n",
    "    pop, avg_fit = evaluate_population(pop)\n",
    "    print(f'Generation: {i+1}, score: {avg_fit}')\n",
    "    pop_fit.append(pop_fit)\n",
    "    pop = next_generation(pop, mut_rate=mutation_rate, tournament_size=0.2)\n"
   ]
  },
  {
   "cell_type": "code",
   "execution_count": null,
   "id": "ae6b981b-5859-4770-9754-cd22f120041d",
   "metadata": {},
   "outputs": [],
   "source": []
  }
 ],
 "metadata": {
  "kernelspec": {
   "display_name": "Python 3 (ipykernel)",
   "language": "python",
   "name": "python3"
  },
  "language_info": {
   "codemirror_mode": {
    "name": "ipython",
    "version": 3
   },
   "file_extension": ".py",
   "mimetype": "text/x-python",
   "name": "python",
   "nbconvert_exporter": "python",
   "pygments_lexer": "ipython3",
   "version": "3.12.7"
  }
 },
 "nbformat": 4,
 "nbformat_minor": 5
}
