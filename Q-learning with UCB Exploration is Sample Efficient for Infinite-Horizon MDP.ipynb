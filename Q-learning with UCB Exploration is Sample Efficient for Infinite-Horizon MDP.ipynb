{
 "cells": [
  {
   "cell_type": "markdown",
   "id": "6c52f8a1-81c1-4370-a091-a99fc288109c",
   "metadata": {},
   "source": [
    "Paper link: https://arxiv.org/pdf/1901.09311"
   ]
  },
  {
   "cell_type": "code",
   "execution_count": 1,
   "id": "92fc3f93-0fae-45bc-b811-bccd0c7fe343",
   "metadata": {},
   "outputs": [],
   "source": [
    "import numpy as np\n",
    "import matplotlib.pyplot as plt\n",
    "from math import ceil, floor"
   ]
  },
  {
   "cell_type": "code",
   "execution_count": 2,
   "id": "80918210-de23-41e8-b861-bc510d9bf749",
   "metadata": {},
   "outputs": [],
   "source": [
    "\n",
    "def generate_better_structured_mdp(num_states=30, num_actions=4, spread=3, goal_states=[25, 29], seed=None):\n",
    "    if seed is not None:\n",
    "        np.random.seed(seed)\n",
    "\n",
    "    P = np.zeros((num_states, num_actions, num_states))\n",
    "    R_ = np.zeros((num_states, num_actions))\n",
    "\n",
    "    for s in range(num_states):\n",
    "        for a in range(num_actions):\n",
    "            # Bias transitions depending on action (e.g., left, right, stay, jump)\n",
    "            if a == 0:  # move left\n",
    "                center = max(0, s - 1)\n",
    "            elif a == 1:  # move right\n",
    "                center = min(num_states - 1, s + 1)\n",
    "            elif a == 2:  # stay\n",
    "                center = s\n",
    "            else:  # jump to random goal\n",
    "                center = np.random.choice(goal_states)\n",
    "\n",
    "            indices = np.arange(num_states)\n",
    "            weights = np.exp(-((indices - center) ** 2) / (2 * spread ** 2))\n",
    "            weights /= weights.sum()\n",
    "            P[s, a] = weights\n",
    "\n",
    "            # Rewards: high reward at goal states, small negative elsewhere to encourage shorter paths\n",
    "            expected_next_state = np.argmax(weights)\n",
    "            if expected_next_state in goal_states:\n",
    "                R_[s, a] = 1.0 - np.random.uniform(0, 0.05)  # goal reward\n",
    "            else:\n",
    "                R_[s, a] = -0.01 - np.random.uniform(0, 0.01)  # small step cost\n",
    "\n",
    "    return P, R_\n",
    "\n",
    "P, R_ = generate_better_structured_mdp(seed=42)\n",
    "\n",
    "num_states, num_actions, _ = P.shape\n",
    "\n",
    "def get_next_state(state, action):\n",
    "    return np.random.choice(num_states, p=P[state, action])\n",
    "\n",
    "def get_reward(state, action):\n",
    "    return R_[state, action]\n"
   ]
  },
  {
   "cell_type": "code",
   "execution_count": 4,
   "id": "89f16dcc-23fd-4194-9de0-b1665d74cd23",
   "metadata": {},
   "outputs": [],
   "source": [
    "def value_iteration(P, R, gamma=0.99, theta=1e-6):\n",
    "    num_states, num_actions, _ = P.shape\n",
    "    Q = np.zeros((num_states, num_actions))  # Initialize Q-values to zero\n",
    "\n",
    "    while True:\n",
    "        delta = 0\n",
    "        Q_new = np.copy(Q)\n",
    "\n",
    "        for s in range(num_states):\n",
    "            for a in range(num_actions):\n",
    "                Q_new[s, a] = R_[s, a] + gamma * np.dot(P[s, a], np.max(Q, axis=1))\n",
    "        \n",
    "        delta = np.max(np.abs(Q_new - Q))\n",
    "        Q = Q_new\n",
    "\n",
    "        if delta < theta:\n",
    "            break\n",
    "\n",
    "    return Q\n",
    "Q_optimal = value_iteration(P, R_, gamma=0.9)\n"
   ]
  },
  {
   "cell_type": "code",
   "execution_count": 5,
   "id": "80723ac4-313a-4dcf-9130-ebb03f2e1efe",
   "metadata": {},
   "outputs": [],
   "source": [
    "delta = 0.01\n",
    "gamma = 0.9\n",
    "eps = (1-gamma)*5"
   ]
  },
  {
   "cell_type": "code",
   "execution_count": 6,
   "id": "dfda13a2-faab-4e82-b9c8-6940fbccf897",
   "metadata": {},
   "outputs": [],
   "source": [
    "Q = np.ones((num_states, num_actions))*(1/(1-gamma))\n",
    "Q_hat = np.ones((num_states, num_actions))*(1/(1-gamma))\n",
    "N = np.zeros((num_states, num_actions))\n",
    "R = ceil(np.log(3/(eps*(1-gamma)))/(1-gamma))\n",
    "eps_2 = eps / 3\n",
    "L = int(floor(np.log(R) / np.log(2)))\n",
    "eps_L = (1/2**(L+2))*eps_2*((-np.log(1-gamma))**-1)\n",
    "M = np.max([10, int(ceil(-2*np.log(eps_L*(1-gamma))))])\n",
    "eps_1 = eps / (24*R*M*np.log(1/(1-gamma)))\n",
    "H = int(np.ceil(np.log(1/((1-gamma)*eps_1)) / np.log(1/gamma)))\n",
    "c_2 = (1-gamma)/10\n",
    "Tmax = 100000\n",
    "def l_k(k, S=num_states, A=num_actions, delta=delta):\n",
    "    return np.log(S*A*(k+1)*(k+2)/delta)\n",
    "def alpha_k(k, H):\n",
    "    return (H+1)/(H+k)"
   ]
  },
  {
   "cell_type": "code",
   "execution_count": 7,
   "id": "c26269fe-55e2-4932-9bd8-b1dcd18dee08",
   "metadata": {},
   "outputs": [],
   "source": [
    "errors = {'ucb':[], 'eps-greedy':[]}\n",
    "policy_mismatch = {\"ucb\":[], 'eps-greedy':[]}"
   ]
  },
  {
   "cell_type": "code",
   "execution_count": 8,
   "id": "799fc97a-5b25-40e8-96d3-f22ad893cce7",
   "metadata": {},
   "outputs": [],
   "source": [
    "optimal_policy = np.argmax(Q_optimal, axis=-1)"
   ]
  },
  {
   "cell_type": "code",
   "execution_count": 9,
   "id": "863cebc0-1d82-43c8-8418-5b21cc8eb48f",
   "metadata": {},
   "outputs": [],
   "source": [
    "s = 0\n",
    "for t in range(1, Tmax+1):\n",
    "    q_values = Q_hat[s]\n",
    "    max_value = np.max(q_values)\n",
    "    best_actions = np.flatnonzero(q_values == max_value)\n",
    "    a = np.random.choice(best_actions)\n",
    "    s_ = get_next_state(s, a)\n",
    "    r = get_reward(s, a)\n",
    "    N[s, a] = N[s, a] + 1\n",
    "    k = N[s, a]\n",
    "    b_k = (c_2/(1-gamma))*np.sqrt(H*l_k(k)/k)\n",
    "    # b_k = 0\n",
    "    V_hat = np.max(Q_hat[s_])\n",
    "    alpha = alpha_k(k, H)\n",
    "    Q[s, a] = (1 - alpha)*Q[s, a] + alpha*(r + b_k + gamma*V_hat) \n",
    "    Q_hat[s, a] = min(Q_hat[s, a], Q[s, a])\n",
    "    s = s_    \n",
    "    error = np.mean(np.abs(Q_optimal - Q))\n",
    "    errors['ucb'].append(error)\n",
    "    policy_mismatch['ucb'].append(np.sum(optimal_policy != np.argmax(Q, axis=-1)))\n",
    "    "
   ]
  },
  {
   "cell_type": "code",
   "execution_count": 10,
   "id": "b2cb05d8-1474-40f4-9917-0381cbdb7c65",
   "metadata": {},
   "outputs": [],
   "source": [
    "Q_ucb = Q.copy()"
   ]
  },
  {
   "cell_type": "code",
   "execution_count": 11,
   "id": "e1f28e87-d5b2-4add-9706-641434238395",
   "metadata": {},
   "outputs": [],
   "source": [
    "eps = 0.2\n",
    "s = 0\n",
    "Q = np.zeros((num_states, num_actions))\n",
    "alpha = 0.01\n",
    "for t in range(1, Tmax + 1):\n",
    "    q_values = Q[s]\n",
    "\n",
    "    if np.random.rand() < eps:\n",
    "        a = np.random.choice(len(q_values))  # Explore\n",
    "    else:\n",
    "        max_value = np.max(q_values)\n",
    "        best_actions = np.flatnonzero(q_values == max_value)\n",
    "        a = np.random.choice(best_actions)  # Exploit with tie-breaking\n",
    "\n",
    "    s_ = get_next_state(s, a)\n",
    "    r = get_reward(s, a)\n",
    "\n",
    "    # alpha = (H + 1) / (H + t)  \n",
    "    V_hat = np.max(Q[s_])\n",
    "    Q[s, a] = (1 - alpha) * Q[s, a] + alpha * (r + gamma * V_hat)\n",
    "\n",
    "    s = s_\n",
    "    error = np.mean(np.abs(Q_optimal - Q))\n",
    "    errors['eps-greedy'].append(error)\n",
    "    policy_mismatch['eps-greedy'].append(np.sum(optimal_policy != np.argmax(Q, axis=-1)))\n"
   ]
  },
  {
   "cell_type": "code",
   "execution_count": 12,
   "id": "cf798a95-8b4f-4a20-b65a-5f13dcfef6fa",
   "metadata": {},
   "outputs": [],
   "source": [
    "Q_eps = Q.copy()"
   ]
  },
  {
   "cell_type": "code",
   "execution_count": 18,
   "id": "e927259d-775e-4279-b3d4-bf199fcc4ad8",
   "metadata": {},
   "outputs": [
    {
     "data": {
      "image/png": "[encoded data removed]",
      "text/plain": [
       "<Figure size 640x480 with 1 Axes>"
      ]
     },
     "metadata": {},
     "output_type": "display_data"
    }
   ],
   "source": [
    "plt.title('Q-value-errors')\n",
    "plt.plot(errors['eps-greedy'], label='eps-greedy')\n",
    "plt.plot(errors['ucb'], label='ucb')\n",
    "plt.legend()\n",
    "plt.show()"
   ]
  },
  {
   "cell_type": "code",
   "execution_count": 19,
   "id": "ce3311e8-b992-42f6-8265-a26868425e56",
   "metadata": {},
   "outputs": [
    {
     "data": {
      "image/png": "[encoded data removed]",
      "text/plain": [
       "<Figure size 640x480 with 1 Axes>"
      ]
     },
     "metadata": {},
     "output_type": "display_data"
    }
   ],
   "source": [
    "plt.title('Optimal policy-mismatches')\n",
    "plt.plot(policy_mismatch['eps-greedy'], label='eps-greedy')\n",
    "plt.plot(policy_mismatch['ucb'], label='ucb')\n",
    "plt.legend()\n",
    "plt.show()"
   ]
  },
  {
   "cell_type": "code",
   "execution_count": 15,
   "id": "4e7d49e4-9b4a-49dd-9343-d964c8c65e1d",
   "metadata": {},
   "outputs": [
    {
     "data": {
      "text/plain": [
       "array([1, 3, 3, 3, 2, 3, 3, 3, 0, 1, 0, 3, 3, 3, 3, 1, 3, 3, 3, 3, 3, 3,\n",
       "       3, 3, 1, 2, 3, 3, 3, 2], dtype=int64)"
      ]
     },
     "execution_count": 15,
     "metadata": {},
     "output_type": "execute_result"
    }
   ],
   "source": [
    "np.argmax(Q_ucb,axis=-1)"
   ]
  },
  {
   "cell_type": "code",
   "execution_count": 16,
   "id": "e47a31b8-1a13-42e6-b27e-d255b4b24d86",
   "metadata": {},
   "outputs": [
    {
     "data": {
      "text/plain": [
       "array([3, 3, 0, 3, 3, 1, 3, 0, 3, 1, 3, 3, 3, 3, 3, 3, 0, 3, 3, 3, 3, 3,\n",
       "       3, 3, 3, 2, 3, 3, 3, 2], dtype=int64)"
      ]
     },
     "execution_count": 16,
     "metadata": {},
     "output_type": "execute_result"
    }
   ],
   "source": [
    "np.argmax(Q_eps,axis=-1)"
   ]
  },
  {
   "cell_type": "code",
   "execution_count": 17,
   "id": "ebffdf85-199b-4d8a-a70c-3f4c6e0b2921",
   "metadata": {},
   "outputs": [
    {
     "data": {
      "text/plain": [
       "array([3, 3, 3, 3, 3, 3, 3, 3, 3, 3, 3, 3, 3, 3, 3, 3, 3, 3, 3, 3, 3, 3,\n",
       "       3, 3, 1, 2, 3, 3, 3, 2], dtype=int64)"
      ]
     },
     "execution_count": 17,
     "metadata": {},
     "output_type": "execute_result"
    }
   ],
   "source": [
    "np.argmax(Q_optimal,axis=-1)"
   ]
  },
  {
   "cell_type": "code",
   "execution_count": null,
   "id": "8361dcf3-e3e5-4d7f-a5de-bb59a8df7bed",
   "metadata": {},
   "outputs": [],
   "source": []
  }
 ],
 "metadata": {
  "kernelspec": {
   "display_name": "Python 3 (ipykernel)",
   "language": "python",
   "name": "python3"
  },
  "language_info": {
   "codemirror_mode": {
    "name": "ipython",
    "version": 3
   },
   "file_extension": ".py",
   "mimetype": "text/x-python",
   "name": "python",
   "nbconvert_exporter": "python",
   "pygments_lexer": "ipython3",
   "version": "3.12.7"
  }
 },
 "nbformat": 4,
 "nbformat_minor": 5
}
