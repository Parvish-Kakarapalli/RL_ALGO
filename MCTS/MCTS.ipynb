{
 "cells": [
  {
   "cell_type": "code",
   "execution_count": 1,
   "id": "076137ba-8149-4b8e-9b45-978962c5a6be",
   "metadata": {},
   "outputs": [],
   "source": [
    "import numpy as np"
   ]
  },
  {
   "cell_type": "code",
   "execution_count": 2,
   "id": "2f0f58fa-1754-4753-9761-8060048a4fe6",
   "metadata": {},
   "outputs": [
    {
     "data": {
      "text/plain": [
       "array([[1., 1., 1.],\n",
       "       [1., 1., 0.],\n",
       "       [1., 1., 2.]])"
      ]
     },
     "execution_count": 2,
     "metadata": {},
     "output_type": "execute_result"
    }
   ],
   "source": [
    "class GridWorld:\n",
    "    def __init__(self, size):\n",
    "        self.size = size\n",
    "        self.grid = np.ones((size, size))\n",
    "        self.start = (0, 0)\n",
    "        self.goal = (size - 1, size - 1)\n",
    "        self.grid[*self.goal] = 2\n",
    "        self.num_walls = size // 2\n",
    "        wall_count = 0\n",
    "        while wall_count != self.num_walls:\n",
    "            wall_x = np.random.randint(size)\n",
    "            wall_y = np.random.randint(size)\n",
    "            if (wall_x, wall_y) != self.start and (wall_x, wall_y) != self.goal:\n",
    "                self.grid[*(wall_x, wall_y)] = 0\n",
    "                wall_count += 1\n",
    "    \n",
    "    def step(self, state, action):\n",
    "        if self.grid[*(state)] == 0:\n",
    "            raise Exception(\"Not a valid State\")\n",
    "        if state == self.goal:\n",
    "            return state, 0, True\n",
    "        next_state = state\n",
    "        if action == 'u':\n",
    "            next_state = (max(0, next_state[0] -1 ), next_state[1])\n",
    "        elif action == 'l':\n",
    "            next_state = (next_state[0], max(0, next_state[1] - 1))\n",
    "        elif action == 'd':\n",
    "            next_state = (min(self.size - 1, next_state[0] + 1), next_state[1])\n",
    "        elif action == 'r':\n",
    "            next_state = (next_state[0], min(self.size - 1, next_state[1] + 1))\n",
    "\n",
    "        if self.grid[*(next_state)] == 0:\n",
    "            return state, -1, False\n",
    "        elif self.grid[*(next_state)] == 2:\n",
    "            return next_state, -1, True\n",
    "        else:\n",
    "            return next_state, -1, False\n",
    "\n",
    "    def get_possibilities(self, state):\n",
    "        possible_actions = ['l', 'r', 'u', 'd']\n",
    "        return possible_actions, [self.step(state, action)[0] for action in possible_actions]\n",
    "\n",
    "    def get_roll_out(self, state):\n",
    "        random_policy = lambda state: np.random.choice(['l', 'r', 'u', 'd'])\n",
    "        done = False\n",
    "        current_state = state\n",
    "        score = 0\n",
    "        while not done:\n",
    "            action = random_policy(state)\n",
    "            current_state, reward, done = self.step(current_state, action)\n",
    "            score += reward\n",
    "        return score\n",
    "            \n",
    "            \n",
    "        \n",
    "            \n",
    "env = GridWorld(3)\n",
    "env.grid"
   ]
  },
  {
   "cell_type": "code",
   "execution_count": 3,
   "id": "b7e5c89b-22c2-44e1-acf6-9bbfda4cbf0b",
   "metadata": {},
   "outputs": [],
   "source": [
    "class Node:\n",
    "    def __init__(self, state, parent=None):\n",
    "        self.Q = 0\n",
    "        self.N = 0\n",
    "        self.state = state\n",
    "        self.parent = parent \n",
    "        self.children = {}\n",
    "\n",
    "    def is_fully_expanded(self, env):\n",
    "        return len(self.children) == len(env.get_possibilities(self.state)[0])\n",
    "\n",
    "    def get_best_child(self, c):\n",
    "        action = max(self.children, key=lambda action : self.children[action].get_uct(c))\n",
    "        return self.children[action]\n",
    "\n",
    "    def get_uct(self, c):\n",
    "        if self.parent is None:\n",
    "            return float('inf')\n",
    "        return (self.Q / (self.N + 1e-6)) + c*np.sqrt(np.log(self.parent.N)/(self.N+1e-6)) \n",
    "        "
   ]
  },
  {
   "cell_type": "code",
   "execution_count": 4,
   "id": "7a3bc5fd-d3d0-4054-8ae4-c1f308a9b1d4",
   "metadata": {},
   "outputs": [],
   "source": [
    "class MCTS:\n",
    "    def __init__(self, env, num_iterations, c):\n",
    "        self.env = env\n",
    "        self.num_iterations = num_iterations\n",
    "        self.c = c\n",
    "    \n",
    "    def is_terminal(self, node):\n",
    "        return node.state == self.env.goal\n",
    "\n",
    "    def search(self, root_state):\n",
    "        root = Node(root_state)\n",
    "        for _ in range(self.num_iterations):\n",
    "            node = self.selection(root)\n",
    "            if not self.is_terminal(node):\n",
    "                node = self.expansion(node)\n",
    "            reward = self.env.get_roll_out(node.state)\n",
    "            self.back_propagate(node, reward)\n",
    "        action = max(root.children, key=lambda action : root.children[action].get_uct(self.c))\n",
    "        return action, root.children[action].state\n",
    "\n",
    "    def back_propagate(self, node, reward):\n",
    "        while node is not None:\n",
    "            node.N += 1\n",
    "            node.Q += reward\n",
    "            node = node.parent\n",
    "        \n",
    "        \n",
    "    def selection(self, node):\n",
    "        while not self.is_terminal(node) and node.is_fully_expanded(self.env):\n",
    "            node = node.get_best_child(self.c)\n",
    "        return node\n",
    "\n",
    "    def expansion(self, node):\n",
    "        possible_actions, next_states = self.env.get_possibilities(node.state)\n",
    "        node.children = {action : Node(state, parent=node) for action, state in zip(possible_actions, next_states)}\n",
    "        return node"
   ]
  },
  {
   "cell_type": "code",
   "execution_count": 5,
   "id": "b721a196-3c8c-4a36-aa78-6ff38bee64f5",
   "metadata": {},
   "outputs": [],
   "source": [
    "env = GridWorld(5)"
   ]
  },
  {
   "cell_type": "code",
   "execution_count": 12,
   "id": "53cda1c2-a19b-4174-82cd-003fa105d62f",
   "metadata": {},
   "outputs": [
    {
     "name": "stdout",
     "output_type": "stream",
     "text": [
      "(0, 0) l\n",
      "(0, 0) r\n",
      "(0, 1) u\n",
      "(0, 1) l\n",
      "(0, 0) u\n",
      "(0, 0) r\n",
      "(0, 1) r\n",
      "(0, 2) u\n",
      "(0, 2) r\n",
      "(0, 3) l\n",
      "(0, 2) l\n",
      "(0, 1) d\n",
      "(1, 1) d\n",
      "(2, 1) d\n",
      "(3, 1) r\n",
      "(3, 2) r\n",
      "(3, 3) d\n",
      "(4, 3) r\n",
      "[[-1. -1. -1. -1.  1.]\n",
      " [ 1. -1.  1.  1.  1.]\n",
      " [ 1. -1.  1.  1.  0.]\n",
      " [ 1. -1. -1. -1.  1.]\n",
      " [ 0.  1.  1. -1.  2.]]\n"
     ]
    }
   ],
   "source": [
    "state = (0, 0)\n",
    "path = env.grid.copy()\n",
    "mcts = MCTS(env, 100, 2)\n",
    "while state != env.goal:\n",
    "    path[state] = -1\n",
    "    action, next_state = mcts.search(state)\n",
    "    print(state, action)\n",
    "    state = next_state\n",
    "print(path)"
   ]
  },
  {
   "cell_type": "code",
   "execution_count": 13,
   "id": "375fceca-6e1d-4069-a5d2-467c0d0fa77f",
   "metadata": {},
   "outputs": [
    {
     "name": "stdout",
     "output_type": "stream",
     "text": [
      "[[-1. -1. -1. -1.  1.]\n",
      " [ 1. -1.  1.  1.  1.]\n",
      " [ 1. -1.  1.  1.  0.]\n",
      " [ 1. -1. -1. -1.  1.]\n",
      " [ 0.  1.  1. -1.  2.]]\n"
     ]
    }
   ],
   "source": [
    "print(path)"
   ]
  },
  {
   "cell_type": "code",
   "execution_count": null,
   "id": "8bceb4cf-ee84-4a06-a136-0821755c7b1f",
   "metadata": {},
   "outputs": [],
   "source": []
  }
 ],
 "metadata": {
  "kernelspec": {
   "display_name": "Python 3 (ipykernel)",
   "language": "python",
   "name": "python3"
  },
  "language_info": {
   "codemirror_mode": {
    "name": "ipython",
    "version": 3
   },
   "file_extension": ".py",
   "mimetype": "text/x-python",
   "name": "python",
   "nbconvert_exporter": "python",
   "pygments_lexer": "ipython3",
   "version": "3.12.7"
  }
 },
 "nbformat": 4,
 "nbformat_minor": 5
}
