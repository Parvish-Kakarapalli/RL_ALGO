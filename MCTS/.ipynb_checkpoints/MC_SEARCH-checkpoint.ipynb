{
 "cells": [
  {
   "cell_type": "code",
   "execution_count": 22,
   "id": "97f9e505-3355-4012-8ef9-a26f644f1a4f",
   "metadata": {},
   "outputs": [],
   "source": [
    "import random\n",
    "import ast \n"
   ]
  },
  {
   "cell_type": "code",
   "execution_count": 25,
   "id": "c3181a5d-02c2-4892-8b7f-90512b5a1c56",
   "metadata": {},
   "outputs": [],
   "source": [
    "userPlayer = 'O'\n",
    "boardSize = 3\n",
    "numberOfSimulations = 200\n",
    "board = [\n",
    "    list('...'),\n",
    "    list('...'),\n",
    "    list('...')\n",
    "]\n",
    "startingPlayer = 'X'\n",
    "currentPlayer = startingPlayer"
   ]
  },
  {
   "cell_type": "code",
   "execution_count": 26,
   "id": "506cf0b4-c378-4c2a-b869-4cf18248fab2",
   "metadata": {},
   "outputs": [
    {
     "name": "stdout",
     "output_type": "stream",
     "text": [
      "  012\n",
      "0 ...\n",
      "1 ...\n",
      "2 ...\n",
      "\n",
      "  012\n",
      "0 ...\n",
      "1 .X.\n",
      "2 ...\n",
      "\n"
     ]
    },
    {
     "name": "stdin",
     "output_type": "stream",
     "text": [
      "X, Y?  0,0\n"
     ]
    },
    {
     "name": "stdout",
     "output_type": "stream",
     "text": [
      "\n",
      "  012\n",
      "0 O..\n",
      "1 .X.\n",
      "2 ...\n",
      "\n",
      "  012\n",
      "0 O.X\n",
      "1 .X.\n",
      "2 ...\n",
      "\n"
     ]
    },
    {
     "name": "stdin",
     "output_type": "stream",
     "text": [
      "X, Y?  0, 2\n"
     ]
    },
    {
     "name": "stdout",
     "output_type": "stream",
     "text": [
      "\n",
      "  012\n",
      "0 O.X\n",
      "1 .X.\n",
      "2 O..\n",
      "\n",
      "  012\n",
      "0 O.X\n",
      "1 XX.\n",
      "2 O..\n",
      "\n"
     ]
    },
    {
     "name": "stdin",
     "output_type": "stream",
     "text": [
      "X, Y?  1, 2\n"
     ]
    },
    {
     "name": "stdout",
     "output_type": "stream",
     "text": [
      "\n",
      "  012\n",
      "0 O.X\n",
      "1 XX.\n",
      "2 OO.\n",
      "\n",
      "  012\n",
      "0 O.X\n",
      "1 XXX\n",
      "2 OO.\n",
      "Player Xhas Won\n"
     ]
    }
   ],
   "source": [
    "def getBoardCopy(board):\n",
    "    boardCopy = []\n",
    "    for row in board:\n",
    "        boardCopy.append(row.copy())\n",
    "    return boardCopy\n",
    "\n",
    "def hasMovesLeft(board):\n",
    "    for y in range(boardSize):\n",
    "        for x in range(boardSize):\n",
    "            if board[y][x] == '.':\n",
    "                return True \n",
    "    return False \n",
    "\n",
    "def getNextMoves(currentBoard, player):\n",
    "    nextMoves = []\n",
    "    for y in range(boardSize):\n",
    "        for x in range(boardSize):\n",
    "            if currentBoard[y][x] == '.':\n",
    "                boardCopy = getBoardCopy(currentBoard)\n",
    "                boardCopy[y][x] = player\n",
    "                nextMoves.append(boardCopy)\n",
    "    return nextMoves\n",
    "\n",
    "def hasWon(currentBoard, player):\n",
    "    winningSet = [player for _ in range(boardSize)]\n",
    "    for row in currentBoard:\n",
    "        if row == winningSet:\n",
    "            return True\n",
    "    for y in range(boardSize):\n",
    "        column = [currentBoard[i][y] for i in range(boardSize)]\n",
    "        if column == winningSet:\n",
    "            return True\n",
    "    diag_1 = []\n",
    "    diag_2 = []\n",
    "    for index in range(boardSize):\n",
    "        diag_1.append(currentBoard[index][index])\n",
    "        diag_2.append(currentBoard[index][boardSize - index - 1])\n",
    "    if diag_1 == winningSet or diag_2 == winningSet:\n",
    "        return True\n",
    "    return False\n",
    "        \n",
    "def getNextPlayer(current_player):\n",
    "    return 'X' if current_player == 'O' else 'O'\n",
    "\n",
    "def getBestNextMove(currentBoard, currentPlayer):\n",
    "    evaluations = {}\n",
    "    for generation in range(numberOfSimulations):\n",
    "        player = currentPlayer\n",
    "        boardCopy = getBoardCopy(currentBoard)\n",
    "        simulationMoves = []\n",
    "        nextMoves = getNextMoves(boardCopy, player)\n",
    "        score = boardSize*boardSize\n",
    "        while nextMoves:\n",
    "            # roll = np.random.randint(1, len(nextMoves)) - 1\n",
    "            # boardCopy = nextMoves[roll]\n",
    "            boardCopy = random.choice(nextMoves)\n",
    "            simulationMoves.append(boardCopy)\n",
    "            if hasWon(boardCopy, player):\n",
    "                break\n",
    "            score -= 1\n",
    "            player = getNextPlayer(player)\n",
    "            nextMoves = getNextMoves(boardCopy, player)\n",
    "        firstMove = simulationMoves[0]\n",
    "        lastMove = simulationMoves[-1]\n",
    "        firstMoveKey = repr(firstMove)\n",
    "        if player == userPlayer and hasWon(boardCopy, player):\n",
    "            score *= -1\n",
    "        if firstMoveKey in evaluations:\n",
    "            evaluations[firstMoveKey] += score\n",
    "        else:\n",
    "            evaluations[firstMoveKey] = score\n",
    "\n",
    "    bestMove = []\n",
    "    highestScore = 0\n",
    "    firstRound = True\n",
    "    for move, score in evaluations.items():\n",
    "        if firstRound or score > highestScore:\n",
    "            highestScore = score\n",
    "            bestMove = ast.literal_eval(move)\n",
    "            firstRound = False\n",
    "\n",
    "    return bestMove\n",
    "\n",
    "def printBoard(board):\n",
    "    firstRow = True\n",
    "    for index in range(boardSize):\n",
    "        if firstRow:\n",
    "            print('  012')\n",
    "            firstRow = False\n",
    "        print(str(index) + ' ' + ''.join(board[index]))\n",
    "\n",
    "def getPlayerMove(board, currentPlayer):\n",
    "    isMoveValid = False\n",
    "    while isMoveValid == False:\n",
    "        print('')\n",
    "        userMove = input('X, Y? ')\n",
    "        userX, userY = map(int, userMove.split(','))\n",
    "        if board[userY][userX] == '.':\n",
    "            isMoveValid = True\n",
    "    board[userY][userX] = currentPlayer\n",
    "    return board\n",
    "\n",
    "printBoard(board)\n",
    "while hasMovesLeft(board):\n",
    "    if currentPlayer == userPlayer:\n",
    "        board = getPlayerMove(board, currentPlayer)\n",
    "    else:\n",
    "        board = getBestNextMove(board, currentPlayer)\n",
    "    print('')\n",
    "    printBoard(board)\n",
    "    \n",
    "    if hasWon(board, currentPlayer):\n",
    "        print('Player ' + currentPlayer + ' has Won')\n",
    "        break\n",
    "    currentPlayer = getNextPlayer(currentPlayer)\n",
    "        \n",
    "        \n",
    "            \n",
    "    "
   ]
  },
  {
   "cell_type": "code",
   "execution_count": null,
   "id": "09122f59-6cfb-4b46-9d36-1f7f36f8389d",
   "metadata": {},
   "outputs": [],
   "source": []
  }
 ],
 "metadata": {
  "kernelspec": {
   "display_name": "Python 3 (ipykernel)",
   "language": "python",
   "name": "python3"
  },
  "language_info": {
   "codemirror_mode": {
    "name": "ipython",
    "version": 3
   },
   "file_extension": ".py",
   "mimetype": "text/x-python",
   "name": "python",
   "nbconvert_exporter": "python",
   "pygments_lexer": "ipython3",
   "version": "3.12.7"
  }
 },
 "nbformat": 4,
 "nbformat_minor": 5
}
